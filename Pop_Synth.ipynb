{
  "nbformat": 4,
  "nbformat_minor": 0,
  "metadata": {
    "colab": {
      "provenance": []
    },
    "kernelspec": {
      "name": "python3",
      "display_name": "Python 3"
    },
    "language_info": {
      "name": "python"
    }
  },
  "cells": [
    {
      "cell_type": "code",
      "source": [
        "# Import necessary libraries\n",
        "import pandas as pd\n",
        "import numpy as np\n",
        "\n",
        "# Read the dataset into a DataFrame\n",
        "df0 = pd.read_csv('Data.csv')\n",
        "\n",
        "# Compute frequencies for all combinations of Sex, Age category, and Highest education level\n",
        "freq_of_all_combos = df0.groupby([\"Sex\", \"Age_category\", \"Highest_education_level\"]).size().to_dict()\n",
        "\n",
        "\n",
        "def synthesize(sample_freqs, sample_size, pop_size):\n",
        "    \"\"\"\n",
        "    Synthesize a population based on the provided sample frequencies using stratified sampling.\n",
        "\n",
        "    :param sample_freqs: Dictionary containing frequencies of sample combinations\n",
        "    :param sample_size: Size of the sample population\n",
        "    :param pop_size: Size of the synthesized population\n",
        "    :return: DataFrame containing the synthesized population\n",
        "    \"\"\"\n",
        "\n",
        "    # Create an empty DataFrame to store the synthesized population\n",
        "    df = pd.DataFrame(index=range(pop_size), columns=[\"Sex\", \"Age_Groups\", \"Education_Levels\"])\n",
        "\n",
        "    # Pre-allocate memory for the DataFrame columns\n",
        "    df[\"Sex\"] = np.nan\n",
        "    df[\"Age_Groups\"] = np.nan\n",
        "    df[\"Education_Levels\"] = np.nan\n",
        "\n",
        "    # Iterate over each combination and its frequency in the sample\n",
        "    for combo, freq in sample_freqs.items():\n",
        "        # Calculate the number of occurrences of the combination in the synthesized population\n",
        "        n = int((freq / sample_size) * pop_size)\n",
        "\n",
        "        # Get the sample indices for the current combination\n",
        "        sample_indices = df[df[\"Sex\"].isna()].sample(n=n, replace=False).index\n",
        "\n",
        "        # Assign the current combination to the sample indices\n",
        "        df.loc[sample_indices, [\"Sex\", \"Age_Groups\", \"Education_Levels\"]] = list(combo)\n",
        "\n",
        "    return df\n",
        "\n",
        "\n",
        "# Synthesize a population of 50,000 agents\n",
        "final_pop = synthesize(freq_of_all_combos, 200, 50000)\n",
        "\n",
        "# Print frequencies for the specified variables\n",
        "print(\"Variable                         Description                 Frequency\")\n",
        "print(\"----------------------------------------------------------------------\")\n",
        "\n",
        "# For SEX\n",
        "print(f\"SEX                             : Male                       {final_pop['Sex'].value_counts().loc[1]}\")\n",
        "print(f\"                                : Female                     {final_pop['Sex'].value_counts().loc[2]}\\n\")\n",
        "\n",
        "# For AGE GROUP\n",
        "print(f\"AGE GROUP                       : Below  22 years            {final_pop['Age_Groups'].value_counts().loc[1]}\")\n",
        "print(f\"                                : 22 - 60 years              {final_pop['Age_Groups'].value_counts().loc[2]}\")\n",
        "print(f\"                                : Above 60 years             {final_pop['Age_Groups'].value_counts().loc[3]}\\n\")\n",
        "\n",
        "# For HIGHEST EDUCATION LEVEL\n",
        "print(f\"HIGHEST EDUCATION LEVEL         : No Formal Education        {final_pop['Education_Levels'].value_counts().loc[0]}\")\n",
        "print(f\"                                : Primary Education          {final_pop['Education_Levels'].value_counts().loc[1]}\")\n",
        "print(f\"                                : Secondary Education        {final_pop['Education_Levels'].value_counts().loc[2]}\")\n",
        "print(f\"                                : Graduation and above       {final_pop['Education_Levels'].value_counts().loc[3]}\")\n"
      ],
      "metadata": {
        "colab": {
          "base_uri": "https://localhost:8080/"
        },
        "id": "VCwi2tN7vmqH",
        "outputId": "b64e6ac5-3948-499c-c025-4f9512169865"
      },
      "execution_count": null,
      "outputs": [
        {
          "output_type": "stream",
          "name": "stdout",
          "text": [
            "Variable                         Description                 Frequency\n",
            "----------------------------------------------------------------------\n",
            "SEX                             : Male                       25750\n",
            "                                : Female                     24250\n",
            "\n",
            "AGE GROUP                       : Below  22 years            17750\n",
            "                                : 22 - 60 years              29500\n",
            "                                : Above 60 years             2750\n",
            "\n",
            "HIGHEST EDUCATION LEVEL         : No Formal Education        8000\n",
            "                                : Primary Education          6500\n",
            "                                : Secondary Education        24500\n",
            "                                : Graduation and above       11000\n"
          ]
        }
      ]
    }
  ]
}